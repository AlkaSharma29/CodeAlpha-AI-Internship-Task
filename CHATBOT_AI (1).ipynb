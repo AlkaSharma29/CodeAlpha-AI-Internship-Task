{
  "cells": [
    {
      "cell_type": "markdown",
      "metadata": {
        "id": "KCiIVzqXAqx3"
      },
      "source": [
        "CodeAlpha Artificial Intelligence Internship\n",
        "\n",
        "Name: Alka Sharma\n",
        "\n",
        "Task  - CHATBOT AI\n"
      ]
    },
    {
      "cell_type": "code",
      "execution_count": null,
      "metadata": {
        "id": "7ZS2ZqBKArDb"
      },
      "outputs": [],
      "source": [
        "import re"
      ]
    },
    {
      "cell_type": "code",
      "execution_count": null,
      "metadata": {
        "id": "OQxLhV7SkOH1"
      },
      "outputs": [],
      "source": [
        "def chatbot():\n",
        "    print(\"Hello! I'm a simple chatbot. How can I help you?\")\n",
        "    while True:\n",
        "        user_input = input(\"You: \").strip().lower()\n",
        "        if re.search('\\\\b(hi|hello|hey)\\\\b', user_input):\n",
        "            print(\"Chatbot: Hello! How can I help you?\")\n",
        "        elif re.search('\\\\b(how are you|how are you doing)\\\\b', user_input):\n",
        "            print(\"Chatbot:I'm doing well, what about you?\")\n",
        "        elif re.search('\\\\b(what is your name|who are you)\\\\b', user_input):\n",
        "            print(\"Chatbot: I'm a simple chatbot made by Alka.\")\n",
        "        elif re.search('\\\\bweather\\\\b', user_input):\n",
        "            print(\"Chatbot: I'm not connected to the internet, but you can check it on any weather website.\")\n",
        "        elif re.search('\\\\b(day|date)\\\\b', user_input):\n",
        "            print(\"Chatbot: I'm not sure what the date is, but you can check it on your phone calendar.\")\n",
        "        elif re.search('\\\\btime\\\\b', user_input):\n",
        "            print(\"Chatbot: I can't tell the time, but you can check it on your phone.\")\n",
        "        elif re.search('\\\\b(bye|goodbye|exit)\\\\b', user_input):\n",
        "            print(\"Chatbot: Goodbye! Have a nice day!\")\n",
        "            return\n",
        "        elif re.search('\\\\b(thank you|thanks)\\\\b', user_input):\n",
        "            print(\"Chatbot: You're welcome! How else can I help you?\")\n",
        "        elif re.search('\\\\b(help|assist)\\\\b', user_input):\n",
        "            print(\"Chatbot: Sure, just tell me... What do you need help with?\")\n",
        "        elif re.search('\\\\bwho created you\\\\b', user_input):\n",
        "            print(\"Chatbot: I was created by Alka using Python.\")\n",
        "        else:\n",
        "            print(\"Chatbot: I'm sorry, I don't understand that. Can you please rephrase?\")"
      ]
    },
    {
      "cell_type": "code",
      "execution_count": null,
      "metadata": {
        "colab": {
          "base_uri": "https://localhost:8080/"
        },
        "id": "I_hZzJrikPBT",
        "outputId": "0d33932b-2ecb-401e-e1c8-e60f1078e22b"
      },
      "outputs": [
        {
          "output_type": "stream",
          "name": "stdout",
          "text": [
            "Hello! I'm a simple chatbot. How can I help you?\n",
            "You: hello\n",
            "Chatbot: Hello! How can I help you?\n",
            "You: how are you\n",
            "Chatbot:I'm doing well, what about you?\n",
            "You: what is your name\n",
            "Chatbot: I'm a simple chatbot made by Alka.\n",
            "You: can you please help me\n",
            "Chatbot: Sure, just tell me... What do you need help with?\n",
            "You: can you please tell me the time\n",
            "Chatbot: I can't tell the time, but you can check it on your phone.\n",
            "You: please tell me the date\n",
            "Chatbot: I'm not sure what the date is, but you can check it on your phone calendar.\n",
            "You: who created you\n",
            "Chatbot: I was created by Alka using Python.\n",
            "You: thank you\n",
            "Chatbot: You're welcome! How else can I help you?\n",
            "You: bye\n",
            "Chatbot: Goodbye! Have a nice day!\n"
          ]
        }
      ],
      "source": [
        "chatbot()"
      ]
    }
  ],
  "metadata": {
    "colab": {
      "provenance": []
    },
    "kernelspec": {
      "display_name": "Python 3",
      "name": "python3"
    },
    "language_info": {
      "name": "python"
    }
  },
  "nbformat": 4,
  "nbformat_minor": 0
}