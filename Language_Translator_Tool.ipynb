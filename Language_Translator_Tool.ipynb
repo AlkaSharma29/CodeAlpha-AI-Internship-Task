{
  "nbformat": 4,
  "nbformat_minor": 0,
  "metadata": {
    "colab": {
      "provenance": []
    },
    "kernelspec": {
      "name": "python3",
      "display_name": "Python 3"
    },
    "language_info": {
      "name": "python"
    }
  },
  "cells": [
    {
      "cell_type": "code",
      "execution_count": null,
      "metadata": {
        "colab": {
          "base_uri": "https://localhost:8080/"
        },
        "id": "dd4Xea7lbiqC",
        "outputId": "7da256d4-e250-4c3c-da41-08ddb5614294"
      },
      "outputs": [
        {
          "output_type": "stream",
          "name": "stdout",
          "text": [
            "Requirement already satisfied: googletrans==3.1.0a0 in /usr/local/lib/python3.10/dist-packages (3.1.0a0)\n",
            "Requirement already satisfied: httpx==0.13.3 in /usr/local/lib/python3.10/dist-packages (from googletrans==3.1.0a0) (0.13.3)\n",
            "Requirement already satisfied: certifi in /usr/local/lib/python3.10/dist-packages (from httpx==0.13.3->googletrans==3.1.0a0) (2024.7.4)\n",
            "Requirement already satisfied: hstspreload in /usr/local/lib/python3.10/dist-packages (from httpx==0.13.3->googletrans==3.1.0a0) (2024.7.1)\n",
            "Requirement already satisfied: sniffio in /usr/local/lib/python3.10/dist-packages (from httpx==0.13.3->googletrans==3.1.0a0) (1.3.1)\n",
            "Requirement already satisfied: chardet==3.* in /usr/local/lib/python3.10/dist-packages (from httpx==0.13.3->googletrans==3.1.0a0) (3.0.4)\n",
            "Requirement already satisfied: idna==2.* in /usr/local/lib/python3.10/dist-packages (from httpx==0.13.3->googletrans==3.1.0a0) (2.10)\n",
            "Requirement already satisfied: rfc3986<2,>=1.3 in /usr/local/lib/python3.10/dist-packages (from httpx==0.13.3->googletrans==3.1.0a0) (1.5.0)\n",
            "Requirement already satisfied: httpcore==0.9.* in /usr/local/lib/python3.10/dist-packages (from httpx==0.13.3->googletrans==3.1.0a0) (0.9.1)\n",
            "Requirement already satisfied: h11<0.10,>=0.8 in /usr/local/lib/python3.10/dist-packages (from httpcore==0.9.*->httpx==0.13.3->googletrans==3.1.0a0) (0.9.0)\n",
            "Requirement already satisfied: h2==3.* in /usr/local/lib/python3.10/dist-packages (from httpcore==0.9.*->httpx==0.13.3->googletrans==3.1.0a0) (3.2.0)\n",
            "Requirement already satisfied: hyperframe<6,>=5.2.0 in /usr/local/lib/python3.10/dist-packages (from h2==3.*->httpcore==0.9.*->httpx==0.13.3->googletrans==3.1.0a0) (5.2.0)\n",
            "Requirement already satisfied: hpack<4,>=3.0 in /usr/local/lib/python3.10/dist-packages (from h2==3.*->httpcore==0.9.*->httpx==0.13.3->googletrans==3.1.0a0) (3.0.0)\n",
            "Enter the text to translate: hello\n",
            "Enter the source language (e.g. en, es, fr): en\n",
            "Enter the target language (e.g. en, es, fr): es\n",
            "Translated text: Hola\n"
          ]
        }
      ],
      "source": [
        "import os\n",
        "!pip install googletrans==3.1.0a0\n",
        "from googletrans import Translator\n",
        "\n",
        "# Set up the translator\n",
        "translator = Translator()\n",
        "\n",
        "def translate_text(text, source_language, target_language):\n",
        "    \"\"\"\n",
        "    Translate text from one language to another using Google Translate API\n",
        "    \"\"\"\n",
        "    try:\n",
        "        result = translator.translate(text, src=source_language, dest=target_language)\n",
        "        return result.text\n",
        "    except Exception as e:\n",
        "        return str(e)\n",
        "\n",
        "def main():\n",
        "    # Get the text to translate from the user\n",
        "    text = input(\"Enter the text to translate: \")\n",
        "\n",
        "    # Get the source and target languages from the user\n",
        "    source_language = input(\"Enter the source language (e.g. en, es, fr): \")\n",
        "    target_language = input(\"Enter the target language (e.g. en, es, fr): \")\n",
        "\n",
        "    # Translate the text\n",
        "    translated_text = translate_text(text, source_language, target_language)\n",
        "\n",
        "    # Print the translated text\n",
        "    print(\"Translated text:\", translated_text)\n",
        "\n",
        "if __name__ == \"__main__\":\n",
        "    main()"
      ]
    }
  ]
}